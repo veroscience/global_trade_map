{
 "cells": [
  {
   "cell_type": "code",
   "execution_count": 32,
   "metadata": {
    "collapsed": true
   },
   "outputs": [],
   "source": [
    "import pandas as pd\n",
    "import numpy as np"
   ]
  },
  {
   "cell_type": "code",
   "execution_count": 33,
   "metadata": {
    "collapsed": true
   },
   "outputs": [],
   "source": [
    "import urllib.request"
   ]
  },
  {
   "cell_type": "code",
   "execution_count": 71,
   "metadata": {
    "collapsed": true
   },
   "outputs": [],
   "source": [
    "import xlrd"
   ]
  },
  {
   "cell_type": "code",
   "execution_count": 64,
   "metadata": {
    "collapsed": true
   },
   "outputs": [],
   "source": [
    "import re"
   ]
  },
  {
   "cell_type": "code",
   "execution_count": 45,
   "metadata": {
    "collapsed": true
   },
   "outputs": [],
   "source": [
    "convert={}"
   ]
  },
  {
   "cell_type": "code",
   "execution_count": 47,
   "metadata": {},
   "outputs": [],
   "source": [
    "convert['USA']=\"United States of America\"\n",
    "convert['Taipei']='Taipei  Chinese'\n",
    "convert['Hong Kong']='Hong Kong  China'\n",
    "convert['South Korea']='Korea  Republic of'\n",
    "convert['Vietnam']='Viet Nam'\n",
    "convert['Russia']='Russian Federation'"
   ]
  },
  {
   "cell_type": "code",
   "execution_count": 44,
   "metadata": {},
   "outputs": [
    {
     "name": "stdout",
     "output_type": "stream",
     "text": [
      " Volume in drive C is Windows\n",
      " Volume Serial Number is 620D-D09A\n",
      "\n",
      " Directory of C:\\Users\\vnuretdi\\Documents\\My Github\\Data Visualization with JavaScript\\World Trade\\intracen\n",
      "\n",
      "02/19/2020  07:43 PM    <DIR>          .\n",
      "02/19/2020  07:43 PM    <DIR>          ..\n",
      "02/19/2020  07:34 PM            58,542 Trade_Map_-_Bilateral_trade_between_Belgium_and_France.xls\n",
      "02/19/2020  07:30 PM            55,228 Trade_Map_-_Bilateral_trade_between_Belgium_and_Germany.xls\n",
      "02/19/2020  07:28 PM            55,162 Trade_Map_-_Bilateral_trade_between_Belgium_and_Netherlands.xls\n",
      "02/19/2020  07:30 PM            54,778 Trade_Map_-_Bilateral_trade_between_Canada_and_China.xls\n",
      "02/19/2020  07:25 PM            55,717 Trade_Map_-_Bilateral_trade_between_Canada_and_United_States_of_America.xls\n",
      "02/19/2020  07:27 PM            58,450 Trade_Map_-_Bilateral_trade_between_China_and_Australia.xls\n",
      "02/19/2020  07:28 PM            58,384 Trade_Map_-_Bilateral_trade_between_China_and_Brazil.xls\n",
      "02/19/2020  07:26 PM            55,092 Trade_Map_-_Bilateral_trade_between_China_and_China.xls\n",
      "02/19/2020  07:37 PM            58,770 Trade_Map_-_Bilateral_trade_between_China_and_France.xls\n",
      "02/19/2020  07:27 PM            55,505 Trade_Map_-_Bilateral_trade_between_China_and_Germany.xls\n",
      "02/19/2020  07:36 PM            54,970 Trade_Map_-_Bilateral_trade_between_China_and_Indonesia.xls\n",
      "02/19/2020  07:26 PM            58,739 Trade_Map_-_Bilateral_trade_between_China_and_Japan.xls\n",
      "02/19/2020  07:26 PM            58,687 Trade_Map_-_Bilateral_trade_between_China_and_Korea__Republic_of.xls\n",
      "02/19/2020  07:29 PM            54,972 Trade_Map_-_Bilateral_trade_between_China_and_Malaysia.xls\n",
      "02/19/2020  07:30 PM            54,817 Trade_Map_-_Bilateral_trade_between_China_and_Russian_Federation.xls\n",
      "02/19/2020  07:33 PM            54,160 Trade_Map_-_Bilateral_trade_between_China_and_Saudi_Arabia.xls\n",
      "02/19/2020  07:36 PM            54,776 Trade_Map_-_Bilateral_trade_between_China_and_Singapore.xls\n",
      "02/19/2020  07:35 PM            58,302 Trade_Map_-_Bilateral_trade_between_China_and_Switzerland.xls\n",
      "02/19/2020  07:26 PM            55,210 Trade_Map_-_Bilateral_trade_between_China_and_Taipei__Chinese.xls\n",
      "02/19/2020  07:33 PM            58,594 Trade_Map_-_Bilateral_trade_between_China_and_Thailand.xls\n",
      "02/19/2020  07:26 PM            59,090 Trade_Map_-_Bilateral_trade_between_China_and_United_States_of_America.xls\n",
      "02/19/2020  07:29 PM            55,033 Trade_Map_-_Bilateral_trade_between_China_and_Viet_Nam.xls\n",
      "02/19/2020  07:32 PM            54,798 Trade_Map_-_Bilateral_trade_between_France_and_Belgium.xls\n",
      "02/19/2020  07:29 PM            54,876 Trade_Map_-_Bilateral_trade_between_France_and_China.xls\n",
      "02/19/2020  07:27 PM            54,966 Trade_Map_-_Bilateral_trade_between_France_and_Germany.xls\n",
      "02/19/2020  07:32 PM            54,841 Trade_Map_-_Bilateral_trade_between_France_and_Italy.xls\n",
      "02/19/2020  07:33 PM            55,393 Trade_Map_-_Bilateral_trade_between_France_and_Spain.xls\n",
      "02/19/2020  07:34 PM            55,508 Trade_Map_-_Bilateral_trade_between_France_and_United_States_of_America.xls\n",
      "02/19/2020  07:35 PM            72,382 Trade_Map_-_Bilateral_trade_between_Germany_and_Area_Nes.xls\n",
      "02/19/2020  07:32 PM            55,371 Trade_Map_-_Bilateral_trade_between_Germany_and_Austria.xls\n",
      "02/19/2020  07:31 PM            55,498 Trade_Map_-_Bilateral_trade_between_Germany_and_Belgium.xls\n",
      "02/19/2020  07:27 PM            55,754 Trade_Map_-_Bilateral_trade_between_Germany_and_China.xls\n",
      "02/19/2020  07:30 PM            58,692 Trade_Map_-_Bilateral_trade_between_Germany_and_Czech_Republic.xls\n",
      "02/19/2020  07:28 PM            58,955 Trade_Map_-_Bilateral_trade_between_Germany_and_France.xls\n",
      "02/19/2020  07:36 PM            55,046 Trade_Map_-_Bilateral_trade_between_Germany_and_Hungary.xls\n",
      "02/19/2020  07:29 PM            55,611 Trade_Map_-_Bilateral_trade_between_Germany_and_Italy.xls\n",
      "02/19/2020  07:27 PM            55,654 Trade_Map_-_Bilateral_trade_between_Germany_and_Netherlands.xls\n",
      "02/19/2020  07:29 PM            55,457 Trade_Map_-_Bilateral_trade_between_Germany_and_Poland.xls\n",
      "02/19/2020  07:35 PM            58,785 Trade_Map_-_Bilateral_trade_between_Germany_and_Spain.xls\n",
      "02/19/2020  07:31 PM            58,607 Trade_Map_-_Bilateral_trade_between_Germany_and_Switzerland.xls\n",
      "02/19/2020  07:33 PM            58,851 Trade_Map_-_Bilateral_trade_between_Germany_and_United_Kingdom.xls\n",
      "02/19/2020  07:28 PM            59,045 Trade_Map_-_Bilateral_trade_between_Germany_and_United_States_of_America.xls\n",
      "02/19/2020  07:25 PM            55,307 Trade_Map_-_Bilateral_trade_between_Hong_Kong__China_and_China.xls\n",
      "02/19/2020  07:36 PM            58,261 Trade_Map_-_Bilateral_trade_between_Hong_Kong__China_and_Japan.xls\n",
      "02/19/2020  07:35 PM            58,148 Trade_Map_-_Bilateral_trade_between_Hong_Kong__China_and_Korea__Republic_of.xls\n",
      "02/19/2020  07:34 PM            54,413 Trade_Map_-_Bilateral_trade_between_Hong_Kong__China_and_Singapore.xls\n",
      "02/19/2020  07:33 PM            54,585 Trade_Map_-_Bilateral_trade_between_Hong_Kong__China_and_Taipei__Chinese.xls\n",
      "02/19/2020  07:28 PM            55,363 Trade_Map_-_Bilateral_trade_between_India_and_China.xls\n",
      "02/19/2020  07:36 PM            58,752 Trade_Map_-_Bilateral_trade_between_India_and_United_States_of_America.xls\n",
      "02/19/2020  07:35 PM            55,248 Trade_Map_-_Bilateral_trade_between_Italy_and_China.xls\n",
      "02/19/2020  07:33 PM            58,576 Trade_Map_-_Bilateral_trade_between_Italy_and_France.xls\n",
      "02/19/2020  07:28 PM            55,345 Trade_Map_-_Bilateral_trade_between_Italy_and_Germany.xls\n",
      "02/19/2020  07:33 PM            54,785 Trade_Map_-_Bilateral_trade_between_Japan_and_Australia.xls\n",
      "02/19/2020  07:26 PM            55,033 Trade_Map_-_Bilateral_trade_between_Japan_and_China.xls\n",
      "02/19/2020  07:37 PM            55,158 Trade_Map_-_Bilateral_trade_between_Japan_and_Korea__Republic_of.xls\n",
      "02/19/2020  07:36 PM            53,448 Trade_Map_-_Bilateral_trade_between_Japan_and_Saudi_Arabia.xls\n",
      "02/19/2020  07:27 PM            55,598 Trade_Map_-_Bilateral_trade_between_Japan_and_United_States_of_America.xls\n",
      "02/19/2020  07:27 PM            54,926 Trade_Map_-_Bilateral_trade_between_Korea__Republic_of_and_China.xls\n",
      "02/19/2020  07:31 PM            55,142 Trade_Map_-_Bilateral_trade_between_Korea__Republic_of_and_Japan.xls\n",
      "02/19/2020  07:29 PM            55,534 Trade_Map_-_Bilateral_trade_between_Korea__Republic_of_and_United_States_of_America.xls\n",
      "02/19/2020  07:28 PM            55,112 Trade_Map_-_Bilateral_trade_between_Mexico_and_China.xls\n",
      "02/19/2020  07:25 PM            58,756 Trade_Map_-_Bilateral_trade_between_Mexico_and_United_States_of_America.xls\n",
      "02/19/2020  07:31 PM            55,148 Trade_Map_-_Bilateral_trade_between_Netherlands_and_Belgium.xls\n",
      "02/19/2020  07:32 PM            55,199 Trade_Map_-_Bilateral_trade_between_Netherlands_and_China.xls\n",
      "02/19/2020  07:27 PM            55,326 Trade_Map_-_Bilateral_trade_between_Netherlands_and_Germany.xls\n",
      "02/19/2020  07:35 PM            58,610 Trade_Map_-_Bilateral_trade_between_Netherlands_and_United_States_of_America.xls\n",
      "02/19/2020  07:29 PM            55,171 Trade_Map_-_Bilateral_trade_between_Poland_and_Germany.xls\n",
      "02/19/2020  07:32 PM            55,273 Trade_Map_-_Bilateral_trade_between_Singapore_and_China.xls\n",
      "02/19/2020  07:34 PM            54,820 Trade_Map_-_Bilateral_trade_between_Singapore_and_Malaysia.xls\n",
      "02/19/2020  07:34 PM            58,712 Trade_Map_-_Bilateral_trade_between_Singapore_and_United_States_of_America.xls\n",
      "02/19/2020  07:34 PM            55,601 Trade_Map_-_Bilateral_trade_between_Spain_and_France.xls\n",
      "02/19/2020  07:32 PM            54,977 Trade_Map_-_Bilateral_trade_between_Spain_and_Germany.xls\n",
      "02/19/2020  07:30 PM            54,226 Trade_Map_-_Bilateral_trade_between_Switzerland_and_Germany.xls\n",
      "02/19/2020  07:31 PM            55,415 Trade_Map_-_Bilateral_trade_between_Taipei__Chinese_and_China.xls\n",
      "02/19/2020  07:33 PM            58,565 Trade_Map_-_Bilateral_trade_between_Taipei__Chinese_and_Japan.xls\n",
      "02/19/2020  07:36 PM            58,816 Trade_Map_-_Bilateral_trade_between_Taipei__Chinese_and_United_States_of_America.xls\n",
      "02/19/2020  07:35 PM            55,322 Trade_Map_-_Bilateral_trade_between_United_Arab_Emirates_and_China.xls\n",
      "02/19/2020  07:37 PM            54,700 Trade_Map_-_Bilateral_trade_between_United_Kingdom_and_Belgium.xls\n",
      "02/19/2020  07:29 PM            54,866 Trade_Map_-_Bilateral_trade_between_United_Kingdom_and_China.xls\n",
      "02/19/2020  07:35 PM            55,419 Trade_Map_-_Bilateral_trade_between_United_Kingdom_and_France.xls\n",
      "02/19/2020  07:27 PM            54,919 Trade_Map_-_Bilateral_trade_between_United_Kingdom_and_Germany.xls\n",
      "02/19/2020  07:31 PM            54,799 Trade_Map_-_Bilateral_trade_between_United_Kingdom_and_Netherlands.xls\n",
      "02/19/2020  07:30 PM            55,543 Trade_Map_-_Bilateral_trade_between_United_Kingdom_and_United_States_of_America.xls\n",
      "02/19/2020  07:37 PM            55,320 Trade_Map_-_Bilateral_trade_between_United_States_of_America_and_Brazil.xls\n",
      "02/19/2020  07:25 PM            55,724 Trade_Map_-_Bilateral_trade_between_United_States_of_America_and_Canada.xls\n",
      "02/19/2020  07:12 PM            55,311 Trade_Map_-_Bilateral_trade_between_United_States_of_America_and_China.xls\n",
      "02/19/2020  07:31 PM            55,578 Trade_Map_-_Bilateral_trade_between_United_States_of_America_and_France.xls\n",
      "02/19/2020  07:26 PM            55,064 Trade_Map_-_Bilateral_trade_between_United_States_of_America_and_Germany.xls\n",
      "02/19/2020  07:30 PM            54,896 Trade_Map_-_Bilateral_trade_between_United_States_of_America_and_India.xls\n",
      "02/19/2020  07:30 PM            54,828 Trade_Map_-_Bilateral_trade_between_United_States_of_America_and_Ireland.xls\n",
      "02/19/2020  07:31 PM            54,977 Trade_Map_-_Bilateral_trade_between_United_States_of_America_and_Italy.xls\n",
      "02/19/2020  07:26 PM            55,440 Trade_Map_-_Bilateral_trade_between_United_States_of_America_and_Japan.xls\n",
      "02/19/2020  07:28 PM            55,402 Trade_Map_-_Bilateral_trade_between_United_States_of_America_and_Korea__Republic_of.xls\n",
      "02/19/2020  07:34 PM            54,467 Trade_Map_-_Bilateral_trade_between_United_States_of_America_and_Malaysia.xls\n",
      "02/19/2020  07:25 PM            55,029 Trade_Map_-_Bilateral_trade_between_United_States_of_America_and_Mexico.xls\n",
      "02/19/2020  07:34 PM            55,056 Trade_Map_-_Bilateral_trade_between_United_States_of_America_and_Switzerland.xls\n",
      "02/19/2020  07:32 PM            54,702 Trade_Map_-_Bilateral_trade_between_United_States_of_America_and_Taipei__Chinese.xls\n",
      "02/19/2020  07:36 PM            55,313 Trade_Map_-_Bilateral_trade_between_United_States_of_America_and_Thailand.xls\n",
      "02/19/2020  07:29 PM            55,524 Trade_Map_-_Bilateral_trade_between_United_States_of_America_and_United_Kingdom.xls\n",
      "02/19/2020  07:32 PM            54,641 Trade_Map_-_Bilateral_trade_between_United_States_of_America_and_Viet_Nam.xls\n",
      "             100 File(s)      5,613,257 bytes\n",
      "               2 Dir(s)     546,918,400 bytes free\n"
     ]
    }
   ],
   "source": [
    "ls \"intracen/\""
   ]
  },
  {
   "cell_type": "code",
   "execution_count": 51,
   "metadata": {},
   "outputs": [],
   "source": [
    "trade=pd.read_csv(\"trade_countries.csv\")"
   ]
  },
  {
   "cell_type": "code",
   "execution_count": null,
   "metadata": {
    "collapsed": true
   },
   "outputs": [],
   "source": [
    "for in in trade.ind:\n",
    "    "
   ]
  },
  {
   "cell_type": "code",
   "execution_count": 54,
   "metadata": {},
   "outputs": [
    {
     "data": {
      "text/plain": [
       "dict_keys(['USA', 'Taipei', 'Hong Kong', 'South Korea', 'Vietnam', 'Russia'])"
      ]
     },
     "execution_count": 54,
     "metadata": {},
     "output_type": "execute_result"
    }
   ],
   "source": [
    "convert.keys()"
   ]
  },
  {
   "cell_type": "code",
   "execution_count": 73,
   "metadata": {},
   "outputs": [],
   "source": [
    "target=convert.get(trade.loc[0]['target'], trade.loc[0]['target']).replace(\" \", \"_\")\n",
    "source=convert.get(trade.loc[0]['source'], trade.loc[0]['source']).replace(\" \", \"_\")"
   ]
  },
  {
   "cell_type": "code",
   "execution_count": 75,
   "metadata": {},
   "outputs": [
    {
     "data": {
      "text/plain": [
       "'Trade_Map_-_Bilateral_trade_between_United_States_of_America_and_China.xls'"
      ]
     },
     "execution_count": 75,
     "metadata": {},
     "output_type": "execute_result"
    }
   ],
   "source": [
    "str(\"Trade_Map_-_Bilateral_trade_between_\"+target+\"_and_\"+source+\".xls\")"
   ]
  },
  {
   "cell_type": "code",
   "execution_count": 76,
   "metadata": {},
   "outputs": [
    {
     "ename": "XLRDError",
     "evalue": "Unsupported format, or corrupt file: Expected BOF record; found b'<!DOCTYP'",
     "output_type": "error",
     "traceback": [
      "\u001b[1;31m---------------------------------------------------------------------------\u001b[0m",
      "\u001b[1;31mXLRDError\u001b[0m                                 Traceback (most recent call last)",
      "\u001b[1;32m<ipython-input-76-45ef6b6e67a7>\u001b[0m in \u001b[0;36m<module>\u001b[1;34m()\u001b[0m\n\u001b[1;32m----> 1\u001b[1;33m \u001b[0mworkbook\u001b[0m \u001b[1;33m=\u001b[0m \u001b[0mxlrd\u001b[0m\u001b[1;33m.\u001b[0m\u001b[0mopen_workbook\u001b[0m\u001b[1;33m(\u001b[0m\u001b[0mstr\u001b[0m\u001b[1;33m(\u001b[0m\u001b[1;34m\"intracen/\"\u001b[0m\u001b[1;33m+\u001b[0m\u001b[1;34m\"Trade_Map_-_Bilateral_trade_between_\"\u001b[0m\u001b[1;33m+\u001b[0m\u001b[0mtarget\u001b[0m\u001b[1;33m+\u001b[0m\u001b[1;34m\"_and_\"\u001b[0m\u001b[1;33m+\u001b[0m\u001b[0msource\u001b[0m\u001b[1;33m+\u001b[0m\u001b[1;34m\".xls\"\u001b[0m\u001b[1;33m)\u001b[0m\u001b[1;33m,\u001b[0m \u001b[0mon_demand\u001b[0m \u001b[1;33m=\u001b[0m \u001b[1;32mTrue\u001b[0m\u001b[1;33m)\u001b[0m\u001b[1;33m\u001b[0m\u001b[0m\n\u001b[0m",
      "\u001b[1;32mC:\\Users\\vnuretdi\\Anaconda3\\lib\\site-packages\\xlrd\\__init__.py\u001b[0m in \u001b[0;36mopen_workbook\u001b[1;34m(filename, logfile, verbosity, use_mmap, file_contents, encoding_override, formatting_info, on_demand, ragged_rows)\u001b[0m\n\u001b[0;32m    439\u001b[0m         \u001b[0mformatting_info\u001b[0m\u001b[1;33m=\u001b[0m\u001b[0mformatting_info\u001b[0m\u001b[1;33m,\u001b[0m\u001b[1;33m\u001b[0m\u001b[0m\n\u001b[0;32m    440\u001b[0m         \u001b[0mon_demand\u001b[0m\u001b[1;33m=\u001b[0m\u001b[0mon_demand\u001b[0m\u001b[1;33m,\u001b[0m\u001b[1;33m\u001b[0m\u001b[0m\n\u001b[1;32m--> 441\u001b[1;33m         \u001b[0mragged_rows\u001b[0m\u001b[1;33m=\u001b[0m\u001b[0mragged_rows\u001b[0m\u001b[1;33m,\u001b[0m\u001b[1;33m\u001b[0m\u001b[0m\n\u001b[0m\u001b[0;32m    442\u001b[0m         )\n\u001b[0;32m    443\u001b[0m     \u001b[1;32mreturn\u001b[0m \u001b[0mbk\u001b[0m\u001b[1;33m\u001b[0m\u001b[0m\n",
      "\u001b[1;32mC:\\Users\\vnuretdi\\Anaconda3\\lib\\site-packages\\xlrd\\book.py\u001b[0m in \u001b[0;36mopen_workbook_xls\u001b[1;34m(filename, logfile, verbosity, use_mmap, file_contents, encoding_override, formatting_info, on_demand, ragged_rows)\u001b[0m\n\u001b[0;32m     89\u001b[0m         \u001b[0mt1\u001b[0m \u001b[1;33m=\u001b[0m \u001b[0mtime\u001b[0m\u001b[1;33m.\u001b[0m\u001b[0mclock\u001b[0m\u001b[1;33m(\u001b[0m\u001b[1;33m)\u001b[0m\u001b[1;33m\u001b[0m\u001b[0m\n\u001b[0;32m     90\u001b[0m         \u001b[0mbk\u001b[0m\u001b[1;33m.\u001b[0m\u001b[0mload_time_stage_1\u001b[0m \u001b[1;33m=\u001b[0m \u001b[0mt1\u001b[0m \u001b[1;33m-\u001b[0m \u001b[0mt0\u001b[0m\u001b[1;33m\u001b[0m\u001b[0m\n\u001b[1;32m---> 91\u001b[1;33m         \u001b[0mbiff_version\u001b[0m \u001b[1;33m=\u001b[0m \u001b[0mbk\u001b[0m\u001b[1;33m.\u001b[0m\u001b[0mgetbof\u001b[0m\u001b[1;33m(\u001b[0m\u001b[0mXL_WORKBOOK_GLOBALS\u001b[0m\u001b[1;33m)\u001b[0m\u001b[1;33m\u001b[0m\u001b[0m\n\u001b[0m\u001b[0;32m     92\u001b[0m         \u001b[1;32mif\u001b[0m \u001b[1;32mnot\u001b[0m \u001b[0mbiff_version\u001b[0m\u001b[1;33m:\u001b[0m\u001b[1;33m\u001b[0m\u001b[0m\n\u001b[0;32m     93\u001b[0m             \u001b[1;32mraise\u001b[0m \u001b[0mXLRDError\u001b[0m\u001b[1;33m(\u001b[0m\u001b[1;34m\"Can't determine file's BIFF version\"\u001b[0m\u001b[1;33m)\u001b[0m\u001b[1;33m\u001b[0m\u001b[0m\n",
      "\u001b[1;32mC:\\Users\\vnuretdi\\Anaconda3\\lib\\site-packages\\xlrd\\book.py\u001b[0m in \u001b[0;36mgetbof\u001b[1;34m(self, rqd_stream)\u001b[0m\n\u001b[0;32m   1228\u001b[0m             \u001b[0mbof_error\u001b[0m\u001b[1;33m(\u001b[0m\u001b[1;34m'Expected BOF record; met end of file'\u001b[0m\u001b[1;33m)\u001b[0m\u001b[1;33m\u001b[0m\u001b[0m\n\u001b[0;32m   1229\u001b[0m         \u001b[1;32mif\u001b[0m \u001b[0mopcode\u001b[0m \u001b[1;32mnot\u001b[0m \u001b[1;32min\u001b[0m \u001b[0mbofcodes\u001b[0m\u001b[1;33m:\u001b[0m\u001b[1;33m\u001b[0m\u001b[0m\n\u001b[1;32m-> 1230\u001b[1;33m             \u001b[0mbof_error\u001b[0m\u001b[1;33m(\u001b[0m\u001b[1;34m'Expected BOF record; found %r'\u001b[0m \u001b[1;33m%\u001b[0m \u001b[0mself\u001b[0m\u001b[1;33m.\u001b[0m\u001b[0mmem\u001b[0m\u001b[1;33m[\u001b[0m\u001b[0msavpos\u001b[0m\u001b[1;33m:\u001b[0m\u001b[0msavpos\u001b[0m\u001b[1;33m+\u001b[0m\u001b[1;36m8\u001b[0m\u001b[1;33m]\u001b[0m\u001b[1;33m)\u001b[0m\u001b[1;33m\u001b[0m\u001b[0m\n\u001b[0m\u001b[0;32m   1231\u001b[0m         \u001b[0mlength\u001b[0m \u001b[1;33m=\u001b[0m \u001b[0mself\u001b[0m\u001b[1;33m.\u001b[0m\u001b[0mget2bytes\u001b[0m\u001b[1;33m(\u001b[0m\u001b[1;33m)\u001b[0m\u001b[1;33m\u001b[0m\u001b[0m\n\u001b[0;32m   1232\u001b[0m         \u001b[1;32mif\u001b[0m \u001b[0mlength\u001b[0m \u001b[1;33m==\u001b[0m \u001b[0mMY_EOF\u001b[0m\u001b[1;33m:\u001b[0m\u001b[1;33m\u001b[0m\u001b[0m\n",
      "\u001b[1;32mC:\\Users\\vnuretdi\\Anaconda3\\lib\\site-packages\\xlrd\\book.py\u001b[0m in \u001b[0;36mbof_error\u001b[1;34m(msg)\u001b[0m\n\u001b[0;32m   1222\u001b[0m         \u001b[1;32mif\u001b[0m \u001b[0mDEBUG\u001b[0m\u001b[1;33m:\u001b[0m \u001b[0mprint\u001b[0m\u001b[1;33m(\u001b[0m\u001b[1;34m\"reqd: 0x%04x\"\u001b[0m \u001b[1;33m%\u001b[0m \u001b[0mrqd_stream\u001b[0m\u001b[1;33m,\u001b[0m \u001b[0mfile\u001b[0m\u001b[1;33m=\u001b[0m\u001b[0mself\u001b[0m\u001b[1;33m.\u001b[0m\u001b[0mlogfile\u001b[0m\u001b[1;33m)\u001b[0m\u001b[1;33m\u001b[0m\u001b[0m\n\u001b[0;32m   1223\u001b[0m         \u001b[1;32mdef\u001b[0m \u001b[0mbof_error\u001b[0m\u001b[1;33m(\u001b[0m\u001b[0mmsg\u001b[0m\u001b[1;33m)\u001b[0m\u001b[1;33m:\u001b[0m\u001b[1;33m\u001b[0m\u001b[0m\n\u001b[1;32m-> 1224\u001b[1;33m             \u001b[1;32mraise\u001b[0m \u001b[0mXLRDError\u001b[0m\u001b[1;33m(\u001b[0m\u001b[1;34m'Unsupported format, or corrupt file: '\u001b[0m \u001b[1;33m+\u001b[0m \u001b[0mmsg\u001b[0m\u001b[1;33m)\u001b[0m\u001b[1;33m\u001b[0m\u001b[0m\n\u001b[0m\u001b[0;32m   1225\u001b[0m         \u001b[0msavpos\u001b[0m \u001b[1;33m=\u001b[0m \u001b[0mself\u001b[0m\u001b[1;33m.\u001b[0m\u001b[0m_position\u001b[0m\u001b[1;33m\u001b[0m\u001b[0m\n\u001b[0;32m   1226\u001b[0m         \u001b[0mopcode\u001b[0m \u001b[1;33m=\u001b[0m \u001b[0mself\u001b[0m\u001b[1;33m.\u001b[0m\u001b[0mget2bytes\u001b[0m\u001b[1;33m(\u001b[0m\u001b[1;33m)\u001b[0m\u001b[1;33m\u001b[0m\u001b[0m\n",
      "\u001b[1;31mXLRDError\u001b[0m: Unsupported format, or corrupt file: Expected BOF record; found b'<!DOCTYP'"
     ]
    }
   ],
   "source": [
    " workbook = xlrd.open_workbook(str(\"intracen/\"+\"Trade_Map_-_Bilateral_trade_between_\"+target+\"_and_\"+source+\".xls\"), on_demand = True)"
   ]
  },
  {
   "cell_type": "code",
   "execution_count": null,
   "metadata": {
    "collapsed": true
   },
   "outputs": [],
   "source": [
    "for state in states:\n",
    "    workbook = xlrd.open_workbook(str('States data/'+state+'.xls'), on_demand = True)\n",
    "    worksheet = workbook.sheet_by_name('Ranked Measure Data')\n",
    "    \n",
    "    if ('FIPS' in str(worksheet.cell(1, 0)))&('County' in str(worksheet.cell(1, 2)))&('Violent Crime Rate' in str(worksheet.cell(1, 132))):    \n",
    "        i=2\n",
    "        while True:\n",
    "            try:\n",
    "                values=[worksheet.cell(i, 0).value, state, worksheet.cell(i, 2).value, worksheet.cell(i, 132).value]\n",
    "                df.loc[count]=values\n",
    "                i+=1\n",
    "                count+=1\n",
    "            except:\n",
    "                break\n",
    "    else:\n",
    "        print('data is different', state)"
   ]
  },
  {
   "cell_type": "code",
   "execution_count": null,
   "metadata": {
    "collapsed": true
   },
   "outputs": [],
   "source": [
    "trade.loc[0]['source']"
   ]
  }
 ],
 "metadata": {
  "kernelspec": {
   "display_name": "Python 3",
   "language": "python",
   "name": "python3"
  },
  "language_info": {
   "codemirror_mode": {
    "name": "ipython",
    "version": 3
   },
   "file_extension": ".py",
   "mimetype": "text/x-python",
   "name": "python",
   "nbconvert_exporter": "python",
   "pygments_lexer": "ipython3",
   "version": "3.6.1"
  }
 },
 "nbformat": 4,
 "nbformat_minor": 2
}
